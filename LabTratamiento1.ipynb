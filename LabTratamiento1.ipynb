{
 "cells": [
  {
   "cell_type": "markdown",
   "metadata": {},
   "source": [
    "# Carga y lectura de datos csv"
   ]
  },
  {
   "cell_type": "code",
   "execution_count": 1,
   "metadata": {},
   "outputs": [],
   "source": [
    "#importar librería\n",
    "import pandas as pd\n",
    "import matplotlib.pyplot as plt\n",
    "import numpy as np\n",
    "import os\n"
   ]
  },
  {
   "cell_type": "code",
   "execution_count": 2,
   "metadata": {},
   "outputs": [],
   "source": [
    "path = \"C:/Users/JERUEL TOMA/Documents/Desktop/UVG/Quinto año/2 Modelacion y Simulacion/Tareas/LaboratorioTratamiento\"       #direccion donde se guardan los archivos\n",
    "file = \"operacionesmayo.csv\"       #nombre del archivo a cargar\n",
    "pathdata = os.path.join(path,file)   #direccion de los datos donde se cargan"
   ]
  },
  {
   "cell_type": "code",
   "execution_count": 7,
   "metadata": {},
   "outputs": [
    {
     "data": {
      "text/html": [
       "<div>\n",
       "<style scoped>\n",
       "    .dataframe tbody tr th:only-of-type {\n",
       "        vertical-align: middle;\n",
       "    }\n",
       "\n",
       "    .dataframe tbody tr th {\n",
       "        vertical-align: top;\n",
       "    }\n",
       "\n",
       "    .dataframe thead th {\n",
       "        text-align: right;\n",
       "    }\n",
       "</style>\n",
       "<table border=\"1\" class=\"dataframe\">\n",
       "  <thead>\n",
       "    <tr style=\"text-align: right;\">\n",
       "      <th></th>\n",
       "      <th>TiendasVentas</th>\n",
       "      <th>Ventas2020</th>\n",
       "      <th>Ventas2021</th>\n",
       "      <th>TiposVenta</th>\n",
       "      <th>MesesOperacion</th>\n",
       "      <th>Contacto</th>\n",
       "      <th>Numero</th>\n",
       "      <th>MetaCumplida</th>\n",
       "    </tr>\n",
       "  </thead>\n",
       "  <tbody>\n",
       "    <tr>\n",
       "      <th>0</th>\n",
       "      <td>Tienda Quetzaltenango</td>\n",
       "      <td>200000</td>\n",
       "      <td>1000</td>\n",
       "      <td>Comida</td>\n",
       "      <td>13</td>\n",
       "      <td>Marta Xoc</td>\n",
       "      <td>50202510</td>\n",
       "      <td>Yes</td>\n",
       "    </tr>\n",
       "    <tr>\n",
       "      <th>1</th>\n",
       "      <td>Tienda Sololá</td>\n",
       "      <td>150000</td>\n",
       "      <td>0</td>\n",
       "      <td>Calzado</td>\n",
       "      <td>12</td>\n",
       "      <td>Ester Max</td>\n",
       "      <td>45102301</td>\n",
       "      <td>Yes</td>\n",
       "    </tr>\n",
       "    <tr>\n",
       "      <th>2</th>\n",
       "      <td>Tienda Mazatenango</td>\n",
       "      <td>178500</td>\n",
       "      <td>3000</td>\n",
       "      <td>Comida</td>\n",
       "      <td>14</td>\n",
       "      <td>Juan Tech</td>\n",
       "      <td>35202123</td>\n",
       "      <td>Yes</td>\n",
       "    </tr>\n",
       "    <tr>\n",
       "      <th>3</th>\n",
       "      <td>Tienda Coban</td>\n",
       "      <td>50000</td>\n",
       "      <td>5000</td>\n",
       "      <td>Calzado</td>\n",
       "      <td>5</td>\n",
       "      <td>Moli Santay</td>\n",
       "      <td>35662030</td>\n",
       "      <td>No</td>\n",
       "    </tr>\n",
       "    <tr>\n",
       "      <th>4</th>\n",
       "      <td>Tienda San Marcos</td>\n",
       "      <td>0</td>\n",
       "      <td>500</td>\n",
       "      <td>Artículos</td>\n",
       "      <td>1</td>\n",
       "      <td>Edwin Sac</td>\n",
       "      <td>47890145</td>\n",
       "      <td>No</td>\n",
       "    </tr>\n",
       "    <tr>\n",
       "      <th>5</th>\n",
       "      <td>Tienda Chimaltenango</td>\n",
       "      <td>75000</td>\n",
       "      <td>0</td>\n",
       "      <td>Artículos</td>\n",
       "      <td>1</td>\n",
       "      <td>Marta Santa</td>\n",
       "      <td>50136985</td>\n",
       "      <td>No</td>\n",
       "    </tr>\n",
       "    <tr>\n",
       "      <th>6</th>\n",
       "      <td>Tienda Jalapa</td>\n",
       "      <td>198000</td>\n",
       "      <td>2000</td>\n",
       "      <td>Artículos</td>\n",
       "      <td>5</td>\n",
       "      <td>Vicenta Gelita</td>\n",
       "      <td>77257892</td>\n",
       "      <td>Yes</td>\n",
       "    </tr>\n",
       "    <tr>\n",
       "      <th>7</th>\n",
       "      <td>Tienda Guatemala</td>\n",
       "      <td>25000</td>\n",
       "      <td>6000</td>\n",
       "      <td>Artículos</td>\n",
       "      <td>10</td>\n",
       "      <td>Luis Espico</td>\n",
       "      <td>36789025</td>\n",
       "      <td>No</td>\n",
       "    </tr>\n",
       "    <tr>\n",
       "      <th>8</th>\n",
       "      <td>Tienda Zacapa</td>\n",
       "      <td>300000</td>\n",
       "      <td>0</td>\n",
       "      <td>Artículos</td>\n",
       "      <td>12</td>\n",
       "      <td>Lourdes Bell</td>\n",
       "      <td>45202030</td>\n",
       "      <td>Yes</td>\n",
       "    </tr>\n",
       "    <tr>\n",
       "      <th>9</th>\n",
       "      <td>Tienda Jutiapa</td>\n",
       "      <td>150000</td>\n",
       "      <td>1500</td>\n",
       "      <td>Artículos</td>\n",
       "      <td>13</td>\n",
       "      <td>Miriam Estrella</td>\n",
       "      <td>42301203</td>\n",
       "      <td>Yes</td>\n",
       "    </tr>\n",
       "    <tr>\n",
       "      <th>10</th>\n",
       "      <td>Tienda Chiquimula</td>\n",
       "      <td>80000</td>\n",
       "      <td>0</td>\n",
       "      <td>Comida</td>\n",
       "      <td>2</td>\n",
       "      <td>Juan España</td>\n",
       "      <td>59842101</td>\n",
       "      <td>No</td>\n",
       "    </tr>\n",
       "    <tr>\n",
       "      <th>11</th>\n",
       "      <td>Tienda Toto</td>\n",
       "      <td>250000</td>\n",
       "      <td>50000</td>\n",
       "      <td>Comida</td>\n",
       "      <td>15</td>\n",
       "      <td>Marta Xoc</td>\n",
       "      <td>74895200</td>\n",
       "      <td>Yes</td>\n",
       "    </tr>\n",
       "    <tr>\n",
       "      <th>12</th>\n",
       "      <td>Tienda Quetzal</td>\n",
       "      <td>10000</td>\n",
       "      <td>50000</td>\n",
       "      <td>Calzado</td>\n",
       "      <td>10</td>\n",
       "      <td>Pablo Jux</td>\n",
       "      <td>57889044</td>\n",
       "      <td>No</td>\n",
       "    </tr>\n",
       "    <tr>\n",
       "      <th>13</th>\n",
       "      <td>Tienda Puerto</td>\n",
       "      <td>98000</td>\n",
       "      <td>2000</td>\n",
       "      <td>Comida</td>\n",
       "      <td>5</td>\n",
       "      <td>Ruby Lima</td>\n",
       "      <td>47895500</td>\n",
       "      <td>No</td>\n",
       "    </tr>\n",
       "    <tr>\n",
       "      <th>14</th>\n",
       "      <td>Tienda Sija</td>\n",
       "      <td>3500</td>\n",
       "      <td>0</td>\n",
       "      <td>Artículos</td>\n",
       "      <td>1</td>\n",
       "      <td>Pedro Xum</td>\n",
       "      <td>36988805</td>\n",
       "      <td>Yes</td>\n",
       "    </tr>\n",
       "    <tr>\n",
       "      <th>15</th>\n",
       "      <td>Tienda Antigua</td>\n",
       "      <td>125000</td>\n",
       "      <td>2500</td>\n",
       "      <td>Artículos</td>\n",
       "      <td>13</td>\n",
       "      <td>Merli Santis</td>\n",
       "      <td>77890045</td>\n",
       "      <td>Yes</td>\n",
       "    </tr>\n",
       "  </tbody>\n",
       "</table>\n",
       "</div>"
      ],
      "text/plain": [
       "            TiendasVentas  Ventas2020  Ventas2021 TiposVenta  MesesOperacion  \\\n",
       "0   Tienda Quetzaltenango      200000        1000     Comida              13   \n",
       "1           Tienda Sololá      150000           0    Calzado              12   \n",
       "2      Tienda Mazatenango      178500        3000     Comida              14   \n",
       "3            Tienda Coban       50000        5000    Calzado               5   \n",
       "4       Tienda San Marcos           0         500  Artículos               1   \n",
       "5    Tienda Chimaltenango       75000           0  Artículos               1   \n",
       "6           Tienda Jalapa      198000        2000  Artículos               5   \n",
       "7        Tienda Guatemala       25000        6000  Artículos              10   \n",
       "8           Tienda Zacapa      300000           0  Artículos              12   \n",
       "9          Tienda Jutiapa      150000        1500  Artículos              13   \n",
       "10      Tienda Chiquimula       80000           0     Comida               2   \n",
       "11            Tienda Toto      250000       50000     Comida              15   \n",
       "12         Tienda Quetzal       10000       50000    Calzado              10   \n",
       "13          Tienda Puerto       98000        2000     Comida               5   \n",
       "14            Tienda Sija        3500           0  Artículos               1   \n",
       "15         Tienda Antigua      125000        2500  Artículos              13   \n",
       "\n",
       "           Contacto    Numero MetaCumplida  \n",
       "0         Marta Xoc  50202510          Yes  \n",
       "1         Ester Max  45102301          Yes  \n",
       "2         Juan Tech  35202123          Yes  \n",
       "3       Moli Santay  35662030           No  \n",
       "4         Edwin Sac  47890145           No  \n",
       "5       Marta Santa  50136985           No  \n",
       "6    Vicenta Gelita  77257892          Yes  \n",
       "7       Luis Espico  36789025           No  \n",
       "8      Lourdes Bell  45202030          Yes  \n",
       "9   Miriam Estrella  42301203          Yes  \n",
       "10      Juan España  59842101           No  \n",
       "11        Marta Xoc  74895200          Yes  \n",
       "12        Pablo Jux  57889044           No  \n",
       "13        Ruby Lima  47895500           No  \n",
       "14        Pedro Xum  36988805          Yes  \n",
       "15     Merli Santis  77890045          Yes  "
      ]
     },
     "execution_count": 7,
     "metadata": {},
     "output_type": "execute_result"
    }
   ],
   "source": [
    "#Lectura csv\n",
    "data = pd.read_csv(pathdata)\n",
    "#Impresion CSV\n",
    "#data.head ()\n",
    "#Impresion completa CSV\n",
    "data"
   ]
  },
  {
   "cell_type": "markdown",
   "metadata": {},
   "source": [
    "\n",
    "# 1) Crear una tabla donde solo se muestren las tiendas que han cumplido metas con todas las columnas."
   ]
  },
  {
   "cell_type": "code",
   "execution_count": 4,
   "metadata": {},
   "outputs": [
    {
     "name": "stdout",
     "output_type": "stream",
     "text": [
      "            TiendasVentas  Ventas2020 TiposVenta  MesesOperacion  \\\n",
      "0   Tienda Quetzaltenango      200000     Comida              13   \n",
      "1           Tienda Sololá      150000    Calzado              12   \n",
      "2      Tienda Mazatenango      178500     Comida              14   \n",
      "6           Tienda Jalapa      198000  Artículos               5   \n",
      "8           Tienda Zacapa      300000  Artículos              12   \n",
      "9          Tienda Jutiapa      150000  Artículos              13   \n",
      "11            Tienda Toto      250000     Comida              15   \n",
      "14            Tienda Sija        3500  Artículos               1   \n",
      "15         Tienda Antigua      125000  Artículos              13   \n",
      "\n",
      "           Contacto    Numero MetaCumplida  \n",
      "0         Marta Xoc  50202510          Yes  \n",
      "1         Ester Max  45102301          Yes  \n",
      "2         Juan Tech  35202123          Yes  \n",
      "6    Vicenta Gelita  77257892          Yes  \n",
      "8      Lourdes Bell  45202030          Yes  \n",
      "9   Miriam Estrella  42301203          Yes  \n",
      "11        Marta Xoc  74895200          Yes  \n",
      "14        Pedro Xum  36988805          Yes  \n",
      "15     Merli Santis  77890045          Yes  \n"
     ]
    }
   ],
   "source": [
    "data = data[['TiendasVentas','Ventas2020','TiposVenta','MesesOperacion','Contacto','Numero','MetaCumplida']]\n",
    "print(data.loc[data['MetaCumplida'].str.contains('Yes')])\n"
   ]
  },
  {
   "cell_type": "markdown",
   "metadata": {},
   "source": [
    "# 1) Crear una tabla donde solo se muestren las tiendas que han cumplido metas."
   ]
  },
  {
   "cell_type": "code",
   "execution_count": 5,
   "metadata": {},
   "outputs": [
    {
     "name": "stdout",
     "output_type": "stream",
     "text": [
      "            TiendasVentas MetaCumplida\n",
      "0   Tienda Quetzaltenango          Yes\n",
      "1           Tienda Sololá          Yes\n",
      "2      Tienda Mazatenango          Yes\n",
      "6           Tienda Jalapa          Yes\n",
      "8           Tienda Zacapa          Yes\n",
      "9          Tienda Jutiapa          Yes\n",
      "11            Tienda Toto          Yes\n",
      "14            Tienda Sija          Yes\n",
      "15         Tienda Antigua          Yes\n"
     ]
    }
   ],
   "source": [
    "data = data[['TiendasVentas', 'MetaCumplida']]\n",
    "print(data.loc[data['MetaCumplida'].str.contains('Yes')])\n",
    "\n"
   ]
  },
  {
   "cell_type": "markdown",
   "metadata": {},
   "source": [
    "# #2 Crear una gráfica de las ventas de 2020 "
   ]
  },
  {
   "cell_type": "code",
   "execution_count": 8,
   "metadata": {},
   "outputs": [
    {
     "data": {
      "text/plain": [
       "Text(0.5, 1.0, 'Ventas del año 2020')"
      ]
     },
     "execution_count": 8,
     "metadata": {},
     "output_type": "execute_result"
    },
    {
     "data": {
      "image/png": "[encoded data removed]",
      "text/plain": [
       "<Figure size 432x288 with 1 Axes>"
      ]
     },
     "metadata": {
      "needs_background": "light"
     },
     "output_type": "display_data"
    }
   ],
   "source": [
    "plt.hist(data[\"Ventas2020\"], bins=15)\n",
    "plt.xlabel(\"Ventas\")\n",
    "plt.ylabel(\"Frecuencia\")\n",
    "plt.title(\"Ventas del año 2020\")\n"
   ]
  },
  {
   "cell_type": "markdown",
   "metadata": {
    "collapsed": true
   },
   "source": [
    "# #2 Crear una gráfica de las ventas de 2021"
   ]
  },
  {
   "cell_type": "code",
   "execution_count": 9,
   "metadata": {},
   "outputs": [
    {
     "data": {
      "text/plain": [
       "Text(0.5, 1.0, 'Ventas del año 2021')"
      ]
     },
     "execution_count": 9,
     "metadata": {},
     "output_type": "execute_result"
    },
    {
     "data": {
      "image/png": "[encoded data removed]",
      "text/plain": [
       "<Figure size 432x288 with 1 Axes>"
      ]
     },
     "metadata": {
      "needs_background": "light"
     },
     "output_type": "display_data"
    }
   ],
   "source": [
    "plt.hist(data[\"Ventas2021\"], bins=16)\n",
    "plt.xlabel(\"Ventas\")\n",
    "plt.ylabel(\"Frecuencia\")\n",
    "plt.title(\"Ventas del año 2021\")\n"
   ]
  },
  {
   "cell_type": "markdown",
   "metadata": {},
   "source": [
    "#  #4.d     Cambiar el nombre de la columna contacto por  encargado"
   ]
  },
  {
   "cell_type": "code",
   "execution_count": null,
   "metadata": {},
   "outputs": [],
   "source": [
    "#cambiar el nombre de la columna contacto por  encargado.\n",
    "data_columns = pd.read_csv(path+\"/\"+\"operacionesmayocolumnas.csv\")\n",
    "columns_list = data_columns[\"Column_Names\"].tolist()\n",
    "data3 = pd.read_csv(path+\"/\"+file, header=None, names=columns_list)\n",
    "data3.head()\n"
   ]
  },
  {
   "cell_type": "markdown",
   "metadata": {},
   "source": [
    "# tabla donde se muestren aquellas tiendas que  han vendido 100,000 o más o que hayan cumplido su metas"
   ]
  },
  {
   "cell_type": "code",
   "execution_count": 11,
   "metadata": {},
   "outputs": [
    {
     "data": {
      "text/html": [
       "<div>\n",
       "<style scoped>\n",
       "    .dataframe tbody tr th:only-of-type {\n",
       "        vertical-align: middle;\n",
       "    }\n",
       "\n",
       "    .dataframe tbody tr th {\n",
       "        vertical-align: top;\n",
       "    }\n",
       "\n",
       "    .dataframe thead th {\n",
       "        text-align: right;\n",
       "    }\n",
       "</style>\n",
       "<table border=\"1\" class=\"dataframe\">\n",
       "  <thead>\n",
       "    <tr style=\"text-align: right;\">\n",
       "      <th></th>\n",
       "      <th>TiendasVentas</th>\n",
       "      <th>Ventas2020</th>\n",
       "      <th>Ventas2021</th>\n",
       "      <th>TiposVenta</th>\n",
       "      <th>MesesOperacion</th>\n",
       "      <th>Contacto</th>\n",
       "      <th>Numero</th>\n",
       "      <th>MetaCumplida</th>\n",
       "    </tr>\n",
       "  </thead>\n",
       "  <tbody>\n",
       "    <tr>\n",
       "      <th>0</th>\n",
       "      <td>Tienda Quetzaltenango</td>\n",
       "      <td>200000</td>\n",
       "      <td>1000</td>\n",
       "      <td>Comida</td>\n",
       "      <td>13</td>\n",
       "      <td>Marta Xoc</td>\n",
       "      <td>50202510</td>\n",
       "      <td>Yes</td>\n",
       "    </tr>\n",
       "    <tr>\n",
       "      <th>1</th>\n",
       "      <td>Tienda Sololá</td>\n",
       "      <td>150000</td>\n",
       "      <td>0</td>\n",
       "      <td>Calzado</td>\n",
       "      <td>12</td>\n",
       "      <td>Ester Max</td>\n",
       "      <td>45102301</td>\n",
       "      <td>Yes</td>\n",
       "    </tr>\n",
       "    <tr>\n",
       "      <th>2</th>\n",
       "      <td>Tienda Mazatenango</td>\n",
       "      <td>178500</td>\n",
       "      <td>3000</td>\n",
       "      <td>Comida</td>\n",
       "      <td>14</td>\n",
       "      <td>Juan Tech</td>\n",
       "      <td>35202123</td>\n",
       "      <td>Yes</td>\n",
       "    </tr>\n",
       "    <tr>\n",
       "      <th>6</th>\n",
       "      <td>Tienda Jalapa</td>\n",
       "      <td>198000</td>\n",
       "      <td>2000</td>\n",
       "      <td>Artículos</td>\n",
       "      <td>5</td>\n",
       "      <td>Vicenta Gelita</td>\n",
       "      <td>77257892</td>\n",
       "      <td>Yes</td>\n",
       "    </tr>\n",
       "    <tr>\n",
       "      <th>8</th>\n",
       "      <td>Tienda Zacapa</td>\n",
       "      <td>300000</td>\n",
       "      <td>0</td>\n",
       "      <td>Artículos</td>\n",
       "      <td>12</td>\n",
       "      <td>Lourdes Bell</td>\n",
       "      <td>45202030</td>\n",
       "      <td>Yes</td>\n",
       "    </tr>\n",
       "    <tr>\n",
       "      <th>9</th>\n",
       "      <td>Tienda Jutiapa</td>\n",
       "      <td>150000</td>\n",
       "      <td>1500</td>\n",
       "      <td>Artículos</td>\n",
       "      <td>13</td>\n",
       "      <td>Miriam Estrella</td>\n",
       "      <td>42301203</td>\n",
       "      <td>Yes</td>\n",
       "    </tr>\n",
       "    <tr>\n",
       "      <th>11</th>\n",
       "      <td>Tienda Toto</td>\n",
       "      <td>250000</td>\n",
       "      <td>50000</td>\n",
       "      <td>Comida</td>\n",
       "      <td>15</td>\n",
       "      <td>Marta Xoc</td>\n",
       "      <td>74895200</td>\n",
       "      <td>Yes</td>\n",
       "    </tr>\n",
       "    <tr>\n",
       "      <th>14</th>\n",
       "      <td>Tienda Sija</td>\n",
       "      <td>3500</td>\n",
       "      <td>0</td>\n",
       "      <td>Artículos</td>\n",
       "      <td>1</td>\n",
       "      <td>Pedro Xum</td>\n",
       "      <td>36988805</td>\n",
       "      <td>Yes</td>\n",
       "    </tr>\n",
       "    <tr>\n",
       "      <th>15</th>\n",
       "      <td>Tienda Antigua</td>\n",
       "      <td>125000</td>\n",
       "      <td>2500</td>\n",
       "      <td>Artículos</td>\n",
       "      <td>13</td>\n",
       "      <td>Merli Santis</td>\n",
       "      <td>77890045</td>\n",
       "      <td>Yes</td>\n",
       "    </tr>\n",
       "  </tbody>\n",
       "</table>\n",
       "</div>"
      ],
      "text/plain": [
       "            TiendasVentas  Ventas2020  Ventas2021 TiposVenta  MesesOperacion  \\\n",
       "0   Tienda Quetzaltenango      200000        1000     Comida              13   \n",
       "1           Tienda Sololá      150000           0    Calzado              12   \n",
       "2      Tienda Mazatenango      178500        3000     Comida              14   \n",
       "6           Tienda Jalapa      198000        2000  Artículos               5   \n",
       "8           Tienda Zacapa      300000           0  Artículos              12   \n",
       "9          Tienda Jutiapa      150000        1500  Artículos              13   \n",
       "11            Tienda Toto      250000       50000     Comida              15   \n",
       "14            Tienda Sija        3500           0  Artículos               1   \n",
       "15         Tienda Antigua      125000        2500  Artículos              13   \n",
       "\n",
       "           Contacto    Numero MetaCumplida  \n",
       "0         Marta Xoc  50202510          Yes  \n",
       "1         Ester Max  45102301          Yes  \n",
       "2         Juan Tech  35202123          Yes  \n",
       "6    Vicenta Gelita  77257892          Yes  \n",
       "8      Lourdes Bell  45202030          Yes  \n",
       "9   Miriam Estrella  42301203          Yes  \n",
       "11        Marta Xoc  74895200          Yes  \n",
       "14        Pedro Xum  36988805          Yes  \n",
       "15     Merli Santis  77890045          Yes  "
      ]
     },
     "execution_count": 11,
     "metadata": {},
     "output_type": "execute_result"
    }
   ],
   "source": [
    "VentaMeta = data[data['MetaCumplida'] == 'Yes']\n",
    "VentaMeta.add(data[data['Ventas2020'] >= 100000])\n",
    "VentaMeta.add(data[data['Ventas2021'] >= 100000])\n",
    "\n",
    "VentaMeta"
   ]
  },
  {
   "cell_type": "code",
   "execution_count": null,
   "metadata": {},
   "outputs": [],
   "source": []
  }
 ],
 "metadata": {
  "kernelspec": {
   "display_name": "Python 3",
   "language": "python",
   "name": "python3"
  },
  "language_info": {
   "codemirror_mode": {
    "name": "ipython",
    "version": 3
   },
   "file_extension": ".py",
   "mimetype": "text/x-python",
   "name": "python",
   "nbconvert_exporter": "python",
   "pygments_lexer": "ipython3",
   "version": "3.8.5"
  }
 },
 "nbformat": 4,
 "nbformat_minor": 4
}
